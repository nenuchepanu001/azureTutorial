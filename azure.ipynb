{
  "nbformat": 4,
  "nbformat_minor": 0,
  "metadata": {
    "colab": {
      "provenance": [],
      "authorship_tag": "ABX9TyOq2XvuRF2zYE6tTCkGzbaQ",
      "include_colab_link": true
    },
    "kernelspec": {
      "name": "python3",
      "display_name": "Python 3"
    },
    "language_info": {
      "name": "python"
    }
  },
  "cells": [
    {
      "cell_type": "markdown",
      "metadata": {
        "id": "view-in-github",
        "colab_type": "text"
      },
      "source": [
        "<a href=\"https://colab.research.google.com/github/nenuchepanu001/azureTutorial/blob/main/azure.ipynb\" target=\"_parent\"><img src=\"https://colab.research.google.com/assets/colab-badge.svg\" alt=\"Open In Colab\"/></a>"
      ]
    },
    {
      "cell_type": "markdown",
      "source": [
        "**resource group :**\n",
        "\n",
        "    It is a Container that holds resources for azure solution.\n",
        "    Resources in a resource group should share the same life cycle.\n",
        "    Each resource can only exist in one resource group\n",
        "    resources can be added to or removed from a resource group at any time.\n",
        "    resources can be moved from one resource group to another\n",
        "    resource group cna contain resources that resides in different regions\n",
        "    resources can interact resources from another group.\n",
        "\n",
        "**Tags :**\n",
        "\n",
        "\n",
        "    * to describe something about resource or resource group\n",
        "\n",
        "**Azure SQL Database Deployment Types:**\n",
        "    \n",
        "    SIngle Database\n",
        "    ELastic Pool\n",
        "    Managed Instance\n",
        "\n",
        "\n",
        "**Azure DataFactory**\n",
        "\n",
        "    A fully managed serverless data integration solution for ingesting,\n",
        "    \n",
        "    preparing and transforming all of your data at scale.\n",
        "\n",
        "\n",
        "\n",
        "\n",
        "\n",
        "\n",
        "\n",
        "\n"
      ],
      "metadata": {
        "id": "kk-uBROh4Izi"
      }
    }
  ]
}